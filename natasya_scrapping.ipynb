{
 "cells": [
  {
   "cell_type": "code",
   "execution_count": 4,
   "id": "0d41676d",
   "metadata": {},
   "outputs": [
    {
     "name": "stdout",
     "output_type": "stream",
     "text": [
      "Data saved to coronavirus_data.xlsx\n"
     ]
    }
   ],
   "source": [
    "import pandas as pd\n",
    "import requests\n",
    "from bs4 import BeautifulSoup\n",
    "\n",
    "# Make a GET request to the website\n",
    "url = \"https://www.worldometers.info/coronavirus/\"\n",
    "response = requests.get(url)\n",
    "\n",
    "# Parse the HTML content using BeautifulSoup\n",
    "soup = BeautifulSoup(response.content, \"html.parser\")\n",
    "\n",
    "# Find the table containing the data\n",
    "table = soup.find(\"table\", id=\"main_table_countries_today\")\n",
    "\n",
    "# Find the table headers\n",
    "headers = table.find_all(\"th\")\n",
    "column_names = [header.text.strip() for header in headers]\n",
    "\n",
    "# Find all the rows in the table\n",
    "rows = table.find_all(\"tr\")\n",
    "data = []\n",
    "\n",
    "# Iterate over each row and extract the data\n",
    "for row in rows:\n",
    "    # Find all the columns in the row\n",
    "    columns = row.find_all(\"td\")\n",
    "    row_data = [column.text.strip() for column in columns]\n",
    "    if row_data:\n",
    "        data.append(row_data)\n",
    "\n",
    "# Create a pandas DataFrame with the scraped data\n",
    "df = pd.DataFrame(data, columns=column_names)\n",
    "\n",
    "# Save the DataFrame to an Excel file\n",
    "df.to_excel(\"coronavirus_data.xlsx\", index=False)\n",
    "\n",
    "print(\"Data saved to coronavirus_data.xlsx\")"
   ]
  },
  {
   "cell_type": "code",
   "execution_count": null,
   "id": "bb6752f5",
   "metadata": {},
   "outputs": [],
   "source": []
  }
 ],
 "metadata": {
  "kernelspec": {
   "display_name": "Python 3 (ipykernel)",
   "language": "python",
   "name": "python3"
  },
  "language_info": {
   "codemirror_mode": {
    "name": "ipython",
    "version": 3
   },
   "file_extension": ".py",
   "mimetype": "text/x-python",
   "name": "python",
   "nbconvert_exporter": "python",
   "pygments_lexer": "ipython3",
   "version": "3.10.9"
  }
 },
 "nbformat": 4,
 "nbformat_minor": 5
}
